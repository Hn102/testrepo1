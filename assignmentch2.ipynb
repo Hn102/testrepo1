{
 "cells": [
  {
   "cell_type": "markdown",
   "id": "872daf0c-4545-4e1e-9bb7-a16d2ac3e92f",
   "metadata": {},
   "source": [
    "#  My Jupyter Notebook on IBM Watson Studio\n"
   ]
  },
  {
   "cell_type": "markdown",
   "id": "27db602e-285e-4e27-8694-7910ae35a258",
   "metadata": {},
   "source": [
    "**Hanin Said** \n",
    "<br>Engineer"
   ]
  },
  {
   "cell_type": "markdown",
   "id": "cfe6925b-3135-4478-b85a-5828e5f6ec10",
   "metadata": {},
   "source": [
    "*Iam interested in Data Science because Data is core of any organization besides Data Science helps us to understand different things,to understand the world*"
   ]
  },
  {
   "cell_type": "markdown",
   "id": "ba972538-6769-488e-b686-28aad7fd9cc7",
   "metadata": {
    "tags": []
   },
   "source": [
    "### sum of two variables\n"
   ]
  },
  {
   "cell_type": "code",
   "execution_count": 21,
   "id": "af9ac9a3-9d39-408a-bc8b-8a8588735339",
   "metadata": {},
   "outputs": [
    {
     "name": "stdout",
     "output_type": "stream",
     "text": [
      "2\n"
     ]
    }
   ],
   "source": [
    "x= 1\n",
    "y= 1\n",
    "print(x+y)"
   ]
  },
  {
   "cell_type": "markdown",
   "id": "6baaab04-ccf3-4d1d-b29c-06a0fc7fc340",
   "metadata": {},
   "source": [
    "Tools for Data Science...\n",
    "\n",
    "---\n",
    "\n",
    "open source tools\n",
    "***\n",
    "\n",
    "IBM tools\n",
    "___\n",
    "\n",
    "othe IBM tools\n",
    "\n",
    "\n",
    "https://www.coursera.org/\n",
    "\n",
    "> this is example of Blockquotes.\n",
    "\n",
    "#### Numbered list\n",
    "<ol>\n",
    "<li>Fish</li>\n",
    "<li>Eggs</li>\n",
    "<li>Cheese</li>\n",
    "</ol>\n"
   ]
  },
  {
   "cell_type": "code",
   "execution_count": null,
   "id": "1b21bb82-349c-4765-9fca-f0b08ef5553c",
   "metadata": {},
   "outputs": [],
   "source": []
  },
  {
   "cell_type": "code",
   "execution_count": null,
   "id": "3c3d6ed8-b7dc-4aee-ab55-3246c0ec07e4",
   "metadata": {},
   "outputs": [],
   "source": []
  },
  {
   "cell_type": "code",
   "execution_count": null,
   "id": "68533a42-bd8b-4718-b16f-1bd9ec7915a3",
   "metadata": {},
   "outputs": [],
   "source": []
  }
 ],
 "metadata": {
  "kernelspec": {
   "display_name": "Python",
   "language": "python",
   "name": "conda-env-python-py"
  },
  "language_info": {
   "codemirror_mode": {
    "name": "ipython",
    "version": 3
   },
   "file_extension": ".py",
   "mimetype": "text/x-python",
   "name": "python",
   "nbconvert_exporter": "python",
   "pygments_lexer": "ipython3",
   "version": "3.7.12"
  }
 },
 "nbformat": 4,
 "nbformat_minor": 5
}
